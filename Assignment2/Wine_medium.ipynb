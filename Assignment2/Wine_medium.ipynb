{
 "cells": [
  {
   "cell_type": "code",
   "execution_count": 1,
   "metadata": {},
   "outputs": [
    {
     "name": "stderr",
     "output_type": "stream",
     "text": [
      "C:\\Users\\mindr\\Anaconda3\\lib\\site-packages\\statsmodels\\tools\\_testing.py:19: FutureWarning: pandas.util.testing is deprecated. Use the functions in the public API at pandas.testing instead.\n",
      "  import pandas.util.testing as tm\n"
     ]
    }
   ],
   "source": [
    "import pandas as pd\n",
    "import numpy as np\n",
    "import sklearn\n",
    "from sklearn.model_selection import train_test_split\n",
    "from sklearn.tree import DecisionTreeClassifier\n",
    "from sklearn.model_selection import cross_val_score\n",
    "from sklearn.metrics import confusion_matrix\n",
    "import matplotlib.pyplot as plt\n",
    "import seaborn as sn\n",
    "from sklearn.metrics import plot_confusion_matrix\n",
    "from sklearn.metrics import accuracy_score\n",
    "from sklearn.metrics import classification_report\n",
    "from sklearn.ensemble import RandomForestClassifier\n",
    "from sklearn.preprocessing import MinMaxScaler\n",
    "from sklearn.cluster import KMeans\n",
    "from sklearn.metrics import cohen_kappa_score\n",
    "from sklearn.metrics import silhouette_score\n",
    "from sklearn.metrics import make_scorer"
   ]
  },
  {
   "cell_type": "markdown",
   "metadata": {},
   "source": [
    "## Load Data"
   ]
  },
  {
   "cell_type": "code",
   "execution_count": 2,
   "metadata": {},
   "outputs": [
    {
     "data": {
      "text/html": [
       "<div>\n",
       "<style scoped>\n",
       "    .dataframe tbody tr th:only-of-type {\n",
       "        vertical-align: middle;\n",
       "    }\n",
       "\n",
       "    .dataframe tbody tr th {\n",
       "        vertical-align: top;\n",
       "    }\n",
       "\n",
       "    .dataframe thead th {\n",
       "        text-align: right;\n",
       "    }\n",
       "</style>\n",
       "<table border=\"1\" class=\"dataframe\">\n",
       "  <thead>\n",
       "    <tr style=\"text-align: right;\">\n",
       "      <th></th>\n",
       "      <th>fixed acidity</th>\n",
       "      <th>volatile acidity</th>\n",
       "      <th>citric acid</th>\n",
       "      <th>residual sugar</th>\n",
       "      <th>chlorides</th>\n",
       "      <th>free sulfur dioxide</th>\n",
       "      <th>total sulfur dioxide</th>\n",
       "      <th>density</th>\n",
       "      <th>pH</th>\n",
       "      <th>sulphates</th>\n",
       "      <th>alcohol</th>\n",
       "      <th>output</th>\n",
       "    </tr>\n",
       "  </thead>\n",
       "  <tbody>\n",
       "    <tr>\n",
       "      <th>0</th>\n",
       "      <td>7.4</td>\n",
       "      <td>0.70</td>\n",
       "      <td>0.00</td>\n",
       "      <td>1.9</td>\n",
       "      <td>0.076</td>\n",
       "      <td>11</td>\n",
       "      <td>34.0</td>\n",
       "      <td>0.9978</td>\n",
       "      <td>3.51</td>\n",
       "      <td>0.56</td>\n",
       "      <td>9.4</td>\n",
       "      <td>0</td>\n",
       "    </tr>\n",
       "    <tr>\n",
       "      <th>1</th>\n",
       "      <td>7.8</td>\n",
       "      <td>0.88</td>\n",
       "      <td>0.00</td>\n",
       "      <td>2.6</td>\n",
       "      <td>0.098</td>\n",
       "      <td>25</td>\n",
       "      <td>67.0</td>\n",
       "      <td>0.9968</td>\n",
       "      <td>3.20</td>\n",
       "      <td>0.68</td>\n",
       "      <td>9.8</td>\n",
       "      <td>0</td>\n",
       "    </tr>\n",
       "    <tr>\n",
       "      <th>2</th>\n",
       "      <td>7.8</td>\n",
       "      <td>0.76</td>\n",
       "      <td>0.04</td>\n",
       "      <td>2.3</td>\n",
       "      <td>0.092</td>\n",
       "      <td>15</td>\n",
       "      <td>54.0</td>\n",
       "      <td>0.9970</td>\n",
       "      <td>3.26</td>\n",
       "      <td>0.65</td>\n",
       "      <td>9.8</td>\n",
       "      <td>0</td>\n",
       "    </tr>\n",
       "    <tr>\n",
       "      <th>3</th>\n",
       "      <td>7.4</td>\n",
       "      <td>0.70</td>\n",
       "      <td>0.00</td>\n",
       "      <td>1.9</td>\n",
       "      <td>0.076</td>\n",
       "      <td>11</td>\n",
       "      <td>34.0</td>\n",
       "      <td>0.9978</td>\n",
       "      <td>3.51</td>\n",
       "      <td>0.56</td>\n",
       "      <td>9.4</td>\n",
       "      <td>0</td>\n",
       "    </tr>\n",
       "    <tr>\n",
       "      <th>4</th>\n",
       "      <td>7.4</td>\n",
       "      <td>0.66</td>\n",
       "      <td>0.00</td>\n",
       "      <td>1.8</td>\n",
       "      <td>0.075</td>\n",
       "      <td>13</td>\n",
       "      <td>40.0</td>\n",
       "      <td>0.9978</td>\n",
       "      <td>3.51</td>\n",
       "      <td>0.56</td>\n",
       "      <td>9.4</td>\n",
       "      <td>0</td>\n",
       "    </tr>\n",
       "  </tbody>\n",
       "</table>\n",
       "</div>"
      ],
      "text/plain": [
       "   fixed acidity  volatile acidity  citric acid  residual sugar  chlorides  \\\n",
       "0            7.4              0.70         0.00             1.9      0.076   \n",
       "1            7.8              0.88         0.00             2.6      0.098   \n",
       "2            7.8              0.76         0.04             2.3      0.092   \n",
       "3            7.4              0.70         0.00             1.9      0.076   \n",
       "4            7.4              0.66         0.00             1.8      0.075   \n",
       "\n",
       "   free sulfur dioxide  total sulfur dioxide  density    pH  sulphates  \\\n",
       "0                   11                  34.0   0.9978  3.51       0.56   \n",
       "1                   25                  67.0   0.9968  3.20       0.68   \n",
       "2                   15                  54.0   0.9970  3.26       0.65   \n",
       "3                   11                  34.0   0.9978  3.51       0.56   \n",
       "4                   13                  40.0   0.9978  3.51       0.56   \n",
       "\n",
       "   alcohol  output  \n",
       "0      9.4       0  \n",
       "1      9.8       0  \n",
       "2      9.8       0  \n",
       "3      9.4       0  \n",
       "4      9.4       0  "
      ]
     },
     "execution_count": 2,
     "metadata": {},
     "output_type": "execute_result"
    }
   ],
   "source": [
    "df=pd.read_csv('wine_medium.csv')\n",
    "df.head()"
   ]
  },
  {
   "cell_type": "code",
   "execution_count": 3,
   "metadata": {},
   "outputs": [
    {
     "data": {
      "text/plain": [
       "Index(['fixed acidity', 'volatile acidity', 'citric acid', 'residual sugar',\n",
       "       'chlorides', 'free sulfur dioxide', 'total sulfur dioxide', 'density',\n",
       "       'pH', 'sulphates', 'alcohol', 'output'],\n",
       "      dtype='object')"
      ]
     },
     "execution_count": 3,
     "metadata": {},
     "output_type": "execute_result"
    }
   ],
   "source": [
    "columns=df.columns\n",
    "columns"
   ]
  },
  {
   "cell_type": "markdown",
   "metadata": {},
   "source": [
    "## Defining Train and Test Data"
   ]
  },
  {
   "cell_type": "code",
   "execution_count": 4,
   "metadata": {},
   "outputs": [],
   "source": [
    "X=df.iloc[:,:-1]\n",
    "y=df.iloc[:,-1]"
   ]
  },
  {
   "cell_type": "code",
   "execution_count": 5,
   "metadata": {},
   "outputs": [],
   "source": [
    "X_train,X_test,y_train,y_test=train_test_split(X,y,test_size=0.2,random_state=100)"
   ]
  },
  {
   "cell_type": "markdown",
   "metadata": {},
   "source": [
    "## Baseline 1: Random Forest"
   ]
  },
  {
   "cell_type": "code",
   "execution_count": 6,
   "metadata": {},
   "outputs": [
    {
     "name": "stderr",
     "output_type": "stream",
     "text": [
      "C:\\Users\\mindr\\Anaconda3\\lib\\site-packages\\sklearn\\utils\\deprecation.py:87: FutureWarning: Function plot_confusion_matrix is deprecated; Function `plot_confusion_matrix` is deprecated in 1.0 and will be removed in 1.2. Use one of the class methods: ConfusionMatrixDisplay.from_predictions or ConfusionMatrixDisplay.from_estimator.\n",
      "  warnings.warn(msg, category=FutureWarning)\n"
     ]
    },
    {
     "name": "stdout",
     "output_type": "stream",
     "text": [
      "              precision    recall  f1-score   support\n",
      "\n",
      "           0       0.88      0.93      0.91       153\n",
      "           1       0.77      0.63      0.69        54\n",
      "\n",
      "    accuracy                           0.86       207\n",
      "   macro avg       0.83      0.78      0.80       207\n",
      "weighted avg       0.85      0.86      0.85       207\n",
      "\n"
     ]
    },
    {
     "data": {
      "image/png": "[encoded data removed]",
      "text/plain": [
       "<Figure size 432x288 with 2 Axes>"
      ]
     },
     "metadata": {
      "needs_background": "light"
     },
     "output_type": "display_data"
    }
   ],
   "source": [
    "clf_rf=RandomForestClassifier(n_jobs=2,random_state=0)\n",
    "clf_rf.fit(X_train,y_train)\n",
    "y_predict=clf_rf.predict(X_test)\n",
    "plot_confusion_matrix(clf_rf,X_test,y_test, cmap=plt.cm.Blues)\n",
    "print(classification_report(y_test, y_predict))"
   ]
  },
  {
   "cell_type": "code",
   "execution_count": 7,
   "metadata": {},
   "outputs": [
    {
     "name": "stdout",
     "output_type": "stream",
     "text": [
      "Accuracy (without cross-validation) : 0.855072463768116\n",
      "[0.92771084 0.87951807 0.89156627 0.86746988 0.90361446 0.8902439\n",
      " 0.90243902 0.92682927 0.8902439  0.91463415]\n",
      "Accuracy (after cross-validation): 0.8994269761974728 (+/- 0.018592463970480245)\n",
      "[0.81956522 0.68344775 0.73292814 0.68154866 0.7595945  0.71680737\n",
      " 0.74474708 0.81377744 0.69121339 0.78566094]\n",
      "Cohen Kappa Score (after cross-validation): 0.7429290479144619 (+/- 0.04874638591369508)\n"
     ]
    }
   ],
   "source": [
    "score1_rf=accuracy_score(y_test,y_predict)\n",
    "print(\"Accuracy (without cross-validation) : {}\".format(score1_rf))\n",
    "\n",
    "score2_rf = cross_val_score(clf_rf, X_train, y_train, cv=10)\n",
    "print(score2_rf)\n",
    "print(\"Accuracy (after cross-validation): {} (+/- {})\".format(score2_rf.mean(),score2_rf.std()))\n",
    "\n",
    "score3_rf = cross_val_score(clf_rf, X_train, y_train, cv=10,scoring=make_scorer(cohen_kappa_score))\n",
    "print(score3_rf)\n",
    "print(\"Cohen Kappa Score (after cross-validation): {} (+/- {})\".format(score3_rf.mean(),score3_rf.std()))"
   ]
  },
  {
   "cell_type": "markdown",
   "metadata": {},
   "source": [
    "## Partitioning the dataset into 10 bins, keeping the imbalance ratio from the original dataset"
   ]
  },
  {
   "cell_type": "code",
   "execution_count": 8,
   "metadata": {},
   "outputs": [
    {
     "name": "stdout",
     "output_type": "stream",
     "text": [
      "0    744\n",
      "1    288\n",
      "Name: output, dtype: int64\n",
      "27.906976744186046\n"
     ]
    }
   ],
   "source": [
    "#Original Imbalance\n",
    "\n",
    "target_count=df.output.value_counts()\n",
    "print(target_count)\n",
    "\n",
    "imbalance_target=(target_count[1]/(target_count[0]+target_count[1]))*100\n",
    "print(imbalance_target)"
   ]
  },
  {
   "cell_type": "code",
   "execution_count": 9,
   "metadata": {},
   "outputs": [],
   "source": [
    "def create_bins (df,no_of_bins,orig_imbalance):\n",
    "    df_class0=df[df['output']==0]\n",
    "    df_class1=df[df['output']==1]\n",
    "\n",
    "    len0=int(len(df_class0)/no_of_bins)\n",
    "    len1=int(len(df_class1)/no_of_bins)\n",
    "\n",
    "    ind0=0\n",
    "    ind1=0\n",
    "    start0=0\n",
    "    start1=0\n",
    "\n",
    "    bins=[]\n",
    "\n",
    "    print(\"Original Imbalance in the dataset: {} %\".format(orig_imbalance))\n",
    "    for i in range(no_of_bins):\n",
    "        ind0+=len0\n",
    "        ind1+=len1\n",
    "        bin_=pd.concat([df_class1.iloc[start1:ind1,:],df_class0.iloc[start0:ind0,:]])\n",
    "        target_cnt=bin_.output.value_counts()\n",
    "        imbalance=(target_cnt[1]/(target_cnt[0]+target_cnt[1]))*100\n",
    "        print(\"Class imbalance ratio in bin {} : {} %\".format(i,imbalance))\n",
    "        bins.append(bin_.values)\n",
    "        start0+=len0\n",
    "        start1+=len1\n",
    "\n",
    "    return bins"
   ]
  },
  {
   "cell_type": "code",
   "execution_count": 10,
   "metadata": {},
   "outputs": [
    {
     "name": "stdout",
     "output_type": "stream",
     "text": [
      "Original Imbalance in the dataset: 27.906976744186046 %\n",
      "Class imbalance ratio in bin 0 : 27.450980392156865 %\n",
      "Class imbalance ratio in bin 1 : 27.450980392156865 %\n",
      "Class imbalance ratio in bin 2 : 27.450980392156865 %\n",
      "Class imbalance ratio in bin 3 : 27.450980392156865 %\n",
      "Class imbalance ratio in bin 4 : 27.450980392156865 %\n",
      "Class imbalance ratio in bin 5 : 27.450980392156865 %\n",
      "Class imbalance ratio in bin 6 : 27.450980392156865 %\n",
      "Class imbalance ratio in bin 7 : 27.450980392156865 %\n",
      "Class imbalance ratio in bin 8 : 27.450980392156865 %\n",
      "Class imbalance ratio in bin 9 : 27.450980392156865 %\n"
     ]
    }
   ],
   "source": [
    "bins= create_bins(df,10, imbalance_target)"
   ]
  },
  {
   "cell_type": "markdown",
   "metadata": {},
   "source": [
    "## Analyzing the number of clusters using Elbow method and Silhouette method"
   ]
  },
  {
   "cell_type": "code",
   "execution_count": 11,
   "metadata": {},
   "outputs": [],
   "source": [
    "model_accuracies={} \n",
    "model_kappa_scores={} "
   ]
  },
  {
   "cell_type": "code",
   "execution_count": 12,
   "metadata": {},
   "outputs": [
    {
     "name": "stderr",
     "output_type": "stream",
     "text": [
      "C:\\Users\\mindr\\Anaconda3\\lib\\site-packages\\ipykernel_launcher.py:14: FutureWarning: arrays to stack must be passed as a \"sequence\" type such as list or tuple. Support for non-sequence iterables such as generators is deprecated as of NumPy 1.16 and will raise an error in the future.\n",
      "  \n"
     ]
    },
    {
     "data": {
      "image/png": "[encoded data removed]",
      "text/plain": [
       "<Figure size 432x288 with 1 Axes>"
      ]
     },
     "metadata": {
      "needs_background": "light"
     },
     "output_type": "display_data"
    },
    {
     "data": {
      "image/png": "[encoded data removed]",
      "text/plain": [
       "<Figure size 432x288 with 1 Axes>"
      ]
     },
     "metadata": {
      "needs_background": "light"
     },
     "output_type": "display_data"
    }
   ],
   "source": [
    "#***** CHANGE MANUALLY DURING EACH ITERATION *****#\n",
    "\n",
    "i=9 # The bin index to be left-out while training, and used only for testing \n",
    "\n",
    "#************************************************#\n",
    "\n",
    "#CREATE TESTING DATA\n",
    "\n",
    "leave_out=i #for indexing while saving the model accuracies to a dictionary\n",
    "test_data=bins[i] \n",
    "\n",
    "#CREATE TRAINING DATA\n",
    "\n",
    "compile9=np.vstack((bins[j] for j in range(10) if j!=i )) #combining data from all other bins except the left-out one\n",
    "data=pd.DataFrame(compile9)\n",
    "data.columns=columns\n",
    "mms=MinMaxScaler() #normalizing the data\n",
    "mms.fit(data)\n",
    "data_transformed=mms.transform(data)\n",
    "\n",
    "#ELBOW METHOD TO IDENTIFY THE NUMBER OF CLUSTERS\n",
    "\n",
    "Sum_of_squared_distances = []\n",
    "K = range(2,11)\n",
    "for k in K:\n",
    "    km = KMeans(n_clusters=k,random_state=1)\n",
    "    km = km.fit(data_transformed)\n",
    "    Sum_of_squared_distances.append(km.inertia_)\n",
    "plt.plot(K, Sum_of_squared_distances, 'bx-')\n",
    "plt.xlabel('k')\n",
    "plt.ylabel('Sum_of_squared_distances')\n",
    "plt.title('Elbow Method For Optimal k')\n",
    "plt.show()\n",
    "\n",
    "#SILHOUETTE METHOD TO IDENTIFY THE NUMBER OF CLUSTERS\n",
    "K = range(2,11)\n",
    "no_of_clusters=[]\n",
    "silhouette_scores=[]\n",
    "\n",
    "for k in K:\n",
    "    km = KMeans(n_clusters=k,random_state=1)\n",
    "    preds=km.fit_predict(data_transformed)\n",
    "    centers=km.cluster_centers_\n",
    "\n",
    "    score=silhouette_score(data_transformed,preds)\n",
    "\n",
    "    no_of_clusters.append(k)\n",
    "    silhouette_scores.append(score)\n",
    "\n",
    "plt.ylabel(\"Silhouette coefficient\")\n",
    "plt.xlabel(\"k\")\n",
    "plt.title('Silhouette Method For Optimal k')\n",
    "plt.bar(no_of_clusters,silhouette_scores)\n",
    "plt.show()"
   ]
  },
  {
   "cell_type": "code",
   "execution_count": 13,
   "metadata": {},
   "outputs": [
    {
     "name": "stdout",
     "output_type": "stream",
     "text": [
      "Accuracy : 0.7254901960784313\n"
     ]
    }
   ],
   "source": [
    "#*****CHANGE MANUALLY DURING EACH ITERATION*****#\n",
    "\n",
    "num_of_clusters=3 #Decided after looking at the plots from the previous cell \n",
    "\n",
    "#***********************************************#\n",
    "\n",
    "min_class=0 # The minority class label\n",
    "max_class=1 # The majority class label\n",
    "\n",
    "#***********************************************#\n",
    "\n",
    "#FITTING A K-MEANS CLUSTERING MODEL\n",
    "\n",
    "kmeans = KMeans(n_clusters=num_of_clusters, random_state=1)\n",
    "kmeans.fit_predict(data_transformed)\n",
    "\n",
    "cluster_df=data\n",
    "cluster_df[\"Cluster label\"]=kmeans.labels_\n",
    "cols=list(cluster_df.columns)\n",
    "cols= cols[:-2] + [cols[-1]] + [cols[-2]]\n",
    "cluster_df=cluster_df[cols]\n",
    "  \n",
    "g=globals() #To facilitate naming dynamically\n",
    "\n",
    "#Filtering out the data belonging to each cluster\n",
    "\n",
    "for i in range(0,num_of_clusters):\n",
    "    g['cluster_{}'.format(i)] = cluster_df[cluster_df['Cluster label']==i]\n",
    "\n",
    "#Checking for number of entries from minority class in each cluster\n",
    "\n",
    "for i in range(0,num_of_clusters):\n",
    "    g['clus_{}_class_{}'.format(i,min_class)] = g['cluster_{}'.format(i)][g['cluster_{}'.format(i)]['output']==min_class]\n",
    "    if (len(g['clus_{}_class_{}'.format(i,min_class)])!=0):\n",
    "        g['X{}'.format(i)]=g['cluster_{}'.format(i)].iloc[:,:-1]\n",
    "        g['y{}'.format(i)]=g['cluster_{}'.format(i)].iloc[:,-1]\n",
    "        g['clf_{}'.format(i)]=RandomForestClassifier(n_jobs=2,random_state=0)\n",
    "        g['clf_{}'.format(i)].fit(g['X{}'.format(i)],g['y{}'.format(i)])\n",
    "        g['Class_val_{}{}'.format(i,min_class)]=min_class\n",
    "    else:\n",
    "        g['Class_val_{}{}'.format(i,min_class)]=max_class\n",
    "  \n",
    "\n",
    "\n",
    "test_cluster =pd.DataFrame(test_data)\n",
    "test_cluster.columns=df.columns\n",
    "test_cluster[\"Cluster label\"]=kmeans.predict(test_data)\n",
    "cols=list(test_cluster.columns)\n",
    "cols= cols[:-2] + [cols[-1]] + [cols[-2]]\n",
    "test_cluster=test_cluster[cols]\n",
    "\n",
    "#Dividing the results based on cluster label, to predict the class labels of the corresponding entries\n",
    "\n",
    "for i in range(0,num_of_clusters):\n",
    "    g['test_{}'.format(i)] = test_cluster[test_cluster['Cluster label']==i]\n",
    "    if(len(g['test_{}'.format(i)])!=0):\n",
    "        if(g['Class_val_{}{}'.format(i,min_class)]==min_class): #Checking if the dataset contains values from both the classes\n",
    "            g['X_test{}'.format(i)]=g['test_{}'.format(i)].iloc[:,:-1]\n",
    "            g['y_test{}'.format(i)]=g['test_{}'.format(i)].iloc[:,-1]\n",
    "            g['y_pred{}'.format(i)]=g['clf_{}'.format(i)].predict(g['X_test{}'.format(i)])\n",
    "            g['test_{}'.format(i)]['Predicted class']=g['y_pred{}'.format(i)]\n",
    "        else:\n",
    "            g['y_pred{}'.format(i)]=np.full(len(g['test_{}'.format(i)]),max_class)\n",
    "            g['test_{}'.format(i)]['Predicted class']=g['y_pred{}'.format(i)]\n",
    "\n",
    "#Compiling the results and predictions for performance checking\n",
    "\n",
    "final_test=pd.concat([g['test_{}'.format(i)] for i in range(0,num_of_clusters) if(len(g['test_{}'.format(i)])!=0)])\n",
    "trial_accuracy=accuracy_score(final_test.iloc[:,-2],final_test.iloc[:,-1]) #computing accuracy based on real class labels\n",
    "print(\"Accuracy : {}\".format(trial_accuracy))\n",
    "\n",
    "model_accuracies[leave_out]=trial_accuracy #Saving the accuracy for this permutation\n",
    "trial_kappa =cohen_kappa_score(y_test, y_predict, labels=None, weights=None)\n",
    "model_kappa_scores[leave_out]=trial_kappa #Saving the cohen kappa score for this permutation"
   ]
  },
  {
   "cell_type": "code",
   "execution_count": 14,
   "metadata": {},
   "outputs": [
    {
     "data": {
      "text/plain": [
       "array([0.7254902])"
      ]
     },
     "execution_count": 14,
     "metadata": {},
     "output_type": "execute_result"
    }
   ],
   "source": [
    "acc_values=np.array([model_accuracies[k] for k in model_accuracies])\n",
    "acc_values"
   ]
  },
  {
   "cell_type": "code",
   "execution_count": 15,
   "metadata": {},
   "outputs": [
    {
     "data": {
      "text/plain": [
       "array([0.60023175])"
      ]
     },
     "execution_count": 15,
     "metadata": {},
     "output_type": "execute_result"
    }
   ],
   "source": [
    "kappa_values=np.array([model_kappa_scores[k] for k in model_kappa_scores])\n",
    "kappa_values"
   ]
  },
  {
   "cell_type": "code",
   "execution_count": 16,
   "metadata": {},
   "outputs": [
    {
     "name": "stdout",
     "output_type": "stream",
     "text": [
      "Random Forest model:\n",
      "Accuracy (after cross-validation): 0.8994269761974728 (+/- 0.018592463970480245)\n",
      "New model:\n",
      "Accuracy : 0.7254901960784313 (+/- 0.0)\n"
     ]
    }
   ],
   "source": [
    "from sklearn.metrics import make_scorer\n",
    "\n",
    "print(\"Random Forest model:\")\n",
    "print(\"Accuracy (after cross-validation): {} (+/- {})\".format(score2_rf.mean(),score2_rf.std()))\n",
    "print(\"New model:\")\n",
    "print(\"Accuracy : {} (+/- {})\".format(acc_values.mean(),acc_values.std()))"
   ]
  },
  {
   "cell_type": "code",
   "execution_count": 17,
   "metadata": {},
   "outputs": [
    {
     "name": "stdout",
     "output_type": "stream",
     "text": [
      "Kappa Scores:\n",
      "Random Forest: : 0.7429290479144619 (+/- 0.04874638591369508)\n",
      "New Model: : 0.6002317497103129 (+/- 0.0)\n"
     ]
    }
   ],
   "source": [
    "print(\"Kappa Scores:\")\n",
    "print(\"Random Forest: : {} (+/- {})\".format(score3_rf.mean(),score3_rf.std()))\n",
    "print(\"New Model: : {} (+/- {})\".format(kappa_values.mean(),kappa_values.std()))"
   ]
  },
  {
   "cell_type": "markdown",
   "metadata": {},
   "source": [
    "## Permutation Tests"
   ]
  },
  {
   "cell_type": "code",
   "execution_count": 18,
   "metadata": {},
   "outputs": [],
   "source": [
    "def calc_pvalue(iterations,data_1,data_2,t_obs):\n",
    "    concat = np.concatenate((data_1,data_2))\n",
    "    cnt=0\n",
    "    for i in range(0,iterations):\n",
    "        perm = np.random.permutation(concat)\n",
    "        pcurrent = perm[:len(data_1)]\n",
    "        pnew = perm[len(data_1):]\n",
    "        mean_perm_current=pcurrent.mean()\n",
    "        mean_perm_new=pnew.mean()\n",
    "        t_perm=mean_perm_new-mean_perm_current\n",
    "        if(t_perm>t_obs):\n",
    "            cnt+=1\n",
    "            p_value=cnt/iterations\n",
    "    return p_value"
   ]
  },
  {
   "cell_type": "code",
   "execution_count": null,
   "metadata": {},
   "outputs": [],
   "source": []
  }
 ],
 "metadata": {
  "kernelspec": {
   "display_name": "Python 3",
   "language": "python",
   "name": "python3"
  },
  "language_info": {
   "codemirror_mode": {
    "name": "ipython",
    "version": 3
   },
   "file_extension": ".py",
   "mimetype": "text/x-python",
   "name": "python",
   "nbconvert_exporter": "python",
   "pygments_lexer": "ipython3",
   "version": "3.7.4"
  }
 },
 "nbformat": 4,
 "nbformat_minor": 2
}
